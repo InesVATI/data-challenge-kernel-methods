{
 "cells": [
  {
   "cell_type": "code",
   "execution_count": 7,
   "metadata": {},
   "outputs": [],
   "source": [
    "from absl import app\n",
    "from absl import flags\n",
    "\n",
    "import jax\n",
    "import jax.numpy as jnp\n",
    "from jax import vmap, jit\n",
    "from jaxopt import projection\n",
    "from jaxopt import ProjectedGradient\n",
    "from jaxopt import BoxOSQP\n",
    "from typing import Mapping\n",
    "import numpy as onp\n",
    "from sklearn import datasets\n",
    "from sklearn import preprocessing\n",
    "from sklearn import svm\n",
    "\n",
    "from functools import partial"
   ]
  },
  {
   "cell_type": "code",
   "execution_count": 2,
   "metadata": {},
   "outputs": [],
   "source": [
    "lam = 0.5\n",
    "tol = 1e-6\n",
    "num_samples = 20\n",
    "num_features = 5\n",
    "verbose = False"
   ]
  },
  {
   "cell_type": "code",
   "execution_count": 34,
   "metadata": {},
   "outputs": [],
   "source": [
    "def rbf_kernel(x: jnp.array, x_prime: jnp.array):\n",
    "    return jnp.exp(-0.5 * jnp.linalg.norm(x - x_prime) ** 2)\n",
    "\n",
    "\n",
    "def poly_kernel(x: jnp.array, x_prime: jnp.array, a: float):\n",
    "    return jnp.dot(x, x_prime) ** a\n",
    "\n",
    "\n",
    "def get_poly_kernel(a):\n",
    "    return partial(poly_kernel, a=a)\n",
    "\n",
    "\n",
    "# def get_vec_kernel_fun(fun):\n",
    "#     fun = vmap(fun, in_axes=(None, 0), out_axes=0)\n",
    "#     fun = vmap(fun, in_axes=(0, None), out_axes=0)\n",
    "#     return lambda x : fun(x,x)\n",
    "\n",
    "\n",
    "def solve_svm(K: jnp.array, y: jnp.array, C: float):\n",
    "\n",
    "    def objective_fun(beta, K, y):\n",
    "        # print(K.shape, beta.shape, y.shape)\n",
    "        return 0.5 * jnp.dot(jnp.dot(beta, K), beta) - jnp.dot(beta, y)\n",
    "\n",
    "    # w = jnp.zeros(y.shape[0])\n",
    "\n",
    "    def proj(beta, C):\n",
    "        box_lower = jnp.where(y == 1, 0, -C)\n",
    "        box_upper = jnp.where(y == 1, C, 0)\n",
    "        proj_params = (box_lower, box_upper)\n",
    "        return projection.projection_box(beta, proj_params)\n",
    "\n",
    "    # Run solver.\n",
    "    beta_init = jnp.ones(y.shape[0])\n",
    "    solver = ProjectedGradient(\n",
    "        fun=objective_fun, projection=proj, tol=tol, maxiter=500, verbose=verbose\n",
    "    )\n",
    "    beta_fit = solver.run(beta_init, hyperparams_proj=C, K=K, y=y).params\n",
    "\n",
    "    return beta_fit\n",
    "\n",
    "vect_solve_svm = jax.vmap(solve_svm, in_axes=(None,0,None),out_axes=0)\n",
    "\n",
    "\n",
    "class BinarySVM:\n",
    "    def __init__(self, kernel_func: Mapping, c: float, threshold=1e-4):\n",
    "        self.c = c\n",
    "        self.threshold = threshold\n",
    "        self.kernel_vec = vmap(kernel_func, (None, 0), 0)\n",
    "        self.kernel_mat = vmap(self.kernel_vec, in_axes=(0, None), out_axes=0)\n",
    "\n",
    "    def fit(self, X, y):\n",
    "        alpha = solve_svm(self.kernel_mat(X,X), y, self.c)\n",
    "        threshold_mask = jnp.abs(alpha) > self.threshold\n",
    "        x_pred = X[threshold_mask]\n",
    "        self._alpha_pred = alpha[threshold_mask]\n",
    "        self._kernel_pred=partial(self.kernel_mat, x_pred)\n",
    "\n",
    "    def predict(self, X):  \n",
    "        if X.ndim<2:\n",
    "            X = X[None,:]\n",
    "        preds = self._alpha_pred@self._kernel_pred(X)\n",
    "        X = jnp.squeeze(X)\n",
    "        return preds\n",
    "    \n",
    "class MultiClassSVM:\n",
    "    def __init__(self, num_classes, kernel_fun):\n",
    "        self.num_classes = num_classes\n",
    "        \n",
    "    def fit(self, X, y):\n",
    "        y_onehot = jax.nn.one_hot\n",
    "        pass"
   ]
  },
  {
   "cell_type": "code",
   "execution_count": 35,
   "metadata": {},
   "outputs": [],
   "source": [
    "def binary_kernel_svm_skl(K, y, C):\n",
    "    print(f\"Solve SVM with sklearn.svm.SVC: \")\n",
    "    svc = svm.SVC(kernel=\"precomputed\", C=C, tol=tol).fit(K, y)\n",
    "    dual_coef = onp.zeros(K.shape[0])\n",
    "    dual_coef[svc.support_] = svc.dual_coef_[0]\n",
    "    return dual_coef\n",
    "\n",
    "\n",
    "def print_svm_result(beta, threshold=1e-4):\n",
    "    # Here the vector `beta` of coefficients is signed:\n",
    "    # its sign depends of the true label of the corresponding example.\n",
    "    # Hence we use jnp.abs() to detect support vectors.\n",
    "    is_support_vectors = jnp.abs(beta) > threshold\n",
    "    print(f\"Beta: {beta}\")\n",
    "    print(f\"Support vector indices: {onp.where(is_support_vectors)[0]}\")\n",
    "    print(\"\")"
   ]
  },
  {
   "cell_type": "code",
   "execution_count": 38,
   "metadata": {},
   "outputs": [
    {
     "name": "stdout",
     "output_type": "stream",
     "text": [
      "acc,  0.8\n"
     ]
    }
   ],
   "source": [
    "# Prepare data.\n",
    "X, y = datasets.make_classification(\n",
    "    n_samples=20, n_features=num_features, n_classes=2, random_state=0\n",
    ")\n",
    "X = preprocessing.Normalizer().fit_transform(X)\n",
    "y = jnp.array(y * 2.0 - 1)  # Transform labels from {0, 1} to {-1., 1.}.\n",
    "\n",
    "# lam =  lam\n",
    "lam  = 20\n",
    "k_fun = rbf_kernel\n",
    "C = 1.0 / lam\n",
    "svm = BinarySVM(k_fun, c=C)\n",
    "svm.fit(X, y)\n",
    "print(\"acc, \", jnp.mean(jnp.sign(svm.predict(X)*y)))"
   ]
  },
  {
   "cell_type": "code",
   "execution_count": 33,
   "metadata": {},
   "outputs": [
    {
     "name": "stdout",
     "output_type": "stream",
     "text": [
      "Beta: [-0.05 -0.05  0.05 -0.05 -0.05 -0.05  0.05 -0.05  0.05  0.05 -0.05  0.05\n",
      "  0.05  0.05 -0.05  0.05  0.05  0.05 -0.05 -0.05]\n",
      "Support vector indices: [ 0  1  2  3  4  5  6  7  8  9 10 11 12 13 14 15 16 17 18 19]\n",
      "\n",
      "Solve SVM with sklearn.svm.SVC: \n"
     ]
    },
    {
     "ename": "AttributeError",
     "evalue": "'BinarySVM' object has no attribute 'SVC'",
     "output_type": "error",
     "traceback": [
      "\u001b[0;31m---------------------------------------------------------------------------\u001b[0m",
      "\u001b[0;31mAttributeError\u001b[0m                            Traceback (most recent call last)",
      "Cell \u001b[0;32mIn[33], line 6\u001b[0m\n\u001b[1;32m      3\u001b[0m beta_fit_pg \u001b[38;5;241m=\u001b[39m solve_svm(K, y, C)\n\u001b[1;32m      4\u001b[0m print_svm_result(beta_fit_pg)\n\u001b[0;32m----> 6\u001b[0m beta_fit_skl \u001b[38;5;241m=\u001b[39m \u001b[43mbinary_kernel_svm_skl\u001b[49m\u001b[43m(\u001b[49m\u001b[43mK\u001b[49m\u001b[43m,\u001b[49m\u001b[43m \u001b[49m\u001b[43my\u001b[49m\u001b[43m,\u001b[49m\u001b[43m \u001b[49m\u001b[43mC\u001b[49m\u001b[43m)\u001b[49m\n\u001b[1;32m      7\u001b[0m print_svm_result(beta_fit_skl)\n",
      "Cell \u001b[0;32mIn[31], line 3\u001b[0m, in \u001b[0;36mbinary_kernel_svm_skl\u001b[0;34m(K, y, C)\u001b[0m\n\u001b[1;32m      1\u001b[0m \u001b[38;5;28;01mdef\u001b[39;00m \u001b[38;5;21mbinary_kernel_svm_skl\u001b[39m(K, y, C):\n\u001b[1;32m      2\u001b[0m     \u001b[38;5;28mprint\u001b[39m(\u001b[38;5;124mf\u001b[39m\u001b[38;5;124m\"\u001b[39m\u001b[38;5;124mSolve SVM with sklearn.svm.SVC: \u001b[39m\u001b[38;5;124m\"\u001b[39m)\n\u001b[0;32m----> 3\u001b[0m     svc \u001b[38;5;241m=\u001b[39m \u001b[43msvm\u001b[49m\u001b[38;5;241;43m.\u001b[39;49m\u001b[43mSVC\u001b[49m(kernel\u001b[38;5;241m=\u001b[39m\u001b[38;5;124m\"\u001b[39m\u001b[38;5;124mprecomputed\u001b[39m\u001b[38;5;124m\"\u001b[39m, C\u001b[38;5;241m=\u001b[39mC, tol\u001b[38;5;241m=\u001b[39mtol)\u001b[38;5;241m.\u001b[39mfit(K, y)\n\u001b[1;32m      4\u001b[0m     dual_coef \u001b[38;5;241m=\u001b[39m onp\u001b[38;5;241m.\u001b[39mzeros(K\u001b[38;5;241m.\u001b[39mshape[\u001b[38;5;241m0\u001b[39m])\n\u001b[1;32m      5\u001b[0m     dual_coef[svc\u001b[38;5;241m.\u001b[39msupport_] \u001b[38;5;241m=\u001b[39m svc\u001b[38;5;241m.\u001b[39mdual_coef_[\u001b[38;5;241m0\u001b[39m]\n",
      "\u001b[0;31mAttributeError\u001b[0m: 'BinarySVM' object has no attribute 'SVC'"
     ]
    }
   ],
   "source": [
    "C = 1.0 / lam\n",
    "\n",
    "beta_fit_pg = solve_svm(K, y, C)\n",
    "print_svm_result(beta_fit_pg)\n",
    "\n",
    "beta_fit_skl = binary_kernel_svm_skl(K, y, C)\n",
    "print_svm_result(beta_fit_skl)"
   ]
  },
  {
   "cell_type": "code",
   "execution_count": null,
   "metadata": {},
   "outputs": [],
   "source": []
  }
 ],
 "metadata": {
  "kernelspec": {
   "display_name": "DLP",
   "language": "python",
   "name": "python3"
  },
  "language_info": {
   "codemirror_mode": {
    "name": "ipython",
    "version": 3
   },
   "file_extension": ".py",
   "mimetype": "text/x-python",
   "name": "python",
   "nbconvert_exporter": "python",
   "pygments_lexer": "ipython3",
   "version": "3.12.1"
  }
 },
 "nbformat": 4,
 "nbformat_minor": 2
}

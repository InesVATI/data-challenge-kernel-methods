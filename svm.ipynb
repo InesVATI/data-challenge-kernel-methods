{
 "cells": [
  {
   "cell_type": "code",
   "execution_count": 2,
   "metadata": {},
   "outputs": [],
   "source": [
    "from absl import app\n",
    "from absl import flags\n",
    "\n",
    "import jax\n",
    "import jax.numpy as jnp\n",
    "from jax import vmap, jit\n",
    "from jaxopt import projection\n",
    "from jaxopt import ProjectedGradient\n",
    "from jaxopt import BoxOSQP\n",
    "from typing import Mapping\n",
    "import numpy as onp\n",
    "from sklearn import datasets\n",
    "from sklearn import preprocessing\n",
    "from sklearn import svm\n",
    "\n",
    "from functools import partial"
   ]
  },
  {
   "cell_type": "code",
   "execution_count": 43,
   "metadata": {},
   "outputs": [],
   "source": [
    "lam = 0.5\n",
    "tol = 1e-6\n",
    "num_samples = 20\n",
    "num_features = 5\n",
    "verbose = False"
   ]
  },
  {
   "cell_type": "code",
   "execution_count": 44,
   "metadata": {},
   "outputs": [],
   "source": [
    "def rbf_kernel(x: jnp.array, x_prime: jnp.array):\n",
    "    return jnp.exp(-0.5 * jnp.linalg.norm(x - x_prime) ** 2)\n",
    "\n",
    "\n",
    "def poly_kernel(x: jnp.array, x_prime: jnp.array, a: float):\n",
    "    return jnp.dot(x, x_prime) ** a\n",
    "\n",
    "\n",
    "def get_poly_kernel(a):\n",
    "    return partial(poly_kernel, a=a)\n",
    "\n",
    "\n",
    "def solve_svm(K: jnp.array, y: jnp.array, C: float):\n",
    "\n",
    "    def objective_fun(beta, K, y):\n",
    "        # print(K.shape, beta.shape, y.shape)\n",
    "        return 0.5 * jnp.dot(jnp.dot(beta, K), beta) - jnp.dot(beta, y)\n",
    "    #TODO add it if intercept needed\n",
    "    # w = jnp.zeros(y.shape[0])\n",
    "\n",
    "    def proj(beta, C):\n",
    "        box_lower = jnp.where(y == 1, 0, -C)\n",
    "        box_upper = jnp.where(y == 1, C, 0)\n",
    "        proj_params = (box_lower, box_upper)\n",
    "        return projection.projection_box(beta, proj_params)\n",
    "\n",
    "    # Run solver.\n",
    "    beta_init = jnp.ones(y.shape[0])\n",
    "    solver = ProjectedGradient(\n",
    "        fun=objective_fun, projection=proj, tol=tol, maxiter=500, verbose=verbose\n",
    "    )\n",
    "    beta_fit = solver.run(beta_init, hyperparams_proj=C, K=K, y=y).params\n",
    "\n",
    "    return beta_fit\n",
    "\n",
    "vect_solve_svm = jax.vmap(solve_svm, in_axes=(None,0,None),out_axes=0)\n",
    "\n",
    "\n",
    "class BinarySVM:\n",
    "    def __init__(self, kernel_func: Mapping, c: float, threshold=0):\n",
    "        self.c = c\n",
    "        self.threshold = threshold\n",
    "        self.kernel_vec = vmap(kernel_func, (None, 0), 0)\n",
    "        self.kernel_mat = vmap(self.kernel_vec, in_axes=(0, None), out_axes=0)\n",
    "\n",
    "    def fit(self, X, y):\n",
    "        alpha = solve_svm(self.kernel_mat(X,X), y, self.c)\n",
    "        \n",
    "        if self.threshold>0:\n",
    "            threshold_mask = jnp.abs(alpha) > self.threshold\n",
    "            x_pred = X[threshold_mask]\n",
    "            self._alpha_pred = alpha[threshold_mask]\n",
    "            self._kernel_pred=partial(self.kernel_mat, x_pred)\n",
    "        else:\n",
    "            self._alpha_pred = alpha\n",
    "            self._kernel_pred = partial(self.kernel_mat, X)\n",
    "            \n",
    "    def predict(self, X):  \n",
    "        if X.ndim<2:\n",
    "            X = X[None,:]\n",
    "        preds = self._alpha_pred@self._kernel_pred(X)\n",
    "        X = jnp.squeeze(X)\n",
    "        return preds\n",
    "    \n",
    "class MultiClassSVM():\n",
    "    def __init__(self, num_classes:int, kernel_func: Mapping, c: float, comp_num=None):\n",
    "        self.num_classes = num_classes\n",
    "        self.c = c\n",
    "        self.comp_num = comp_num\n",
    "        self.kernel_vec = vmap(kernel_func, (None, 0), 0)\n",
    "        self.kernel_mat = vmap(self.kernel_vec, in_axes=(0, None), out_axes=0)\n",
    "\n",
    "    def fit(self, X, y):\n",
    "        \n",
    "        y_onehot = jax.nn.one_hot(y, num_classes=self.num_classes, axis=0)\n",
    "        y_onehot = 2*y_onehot - 1\n",
    "        K = self.kernel_mat(X,X)\n",
    "        alphas = vect_solve_svm(K, y_onehot,self.c)\n",
    "        if self.comp_num==None:\n",
    "            self.ref_point= X\n",
    "            self._alpha_pred = alphas\n",
    "        else:\n",
    "            raise NotImplemented\n",
    "        "
   ]
  },
  {
   "cell_type": "code",
   "execution_count": 45,
   "metadata": {},
   "outputs": [],
   "source": [
    "def binary_kernel_svm_skl(K, y, C):\n",
    "    print(f\"Solve SVM with sklearn.svm.SVC: \")\n",
    "    svc = svm.SVC(kernel=\"precomputed\", C=C, tol=tol).fit(K, y)\n",
    "    dual_coef = onp.zeros(K.shape[0])\n",
    "    dual_coef[svc.support_] = svc.dual_coef_[0]\n",
    "    return dual_coef, svc\n",
    "\n",
    "\n",
    "def print_svm_result(beta, threshold=1e-4):\n",
    "    # Here the vector `beta` of coefficients is signed:\n",
    "    # its sign depends of the true label of the corresponding example.\n",
    "    # Hence we use jnp.abs() to detect support vectors.\n",
    "    is_support_vectors = jnp.abs(beta) > threshold\n",
    "    print(f\"Beta: {beta}\")\n",
    "    print(f\"Support vector indices: {onp.where(is_support_vectors)[0]}\")\n",
    "    print(\"\")"
   ]
  },
  {
   "cell_type": "code",
   "execution_count": 41,
   "metadata": {},
   "outputs": [
    {
     "name": "stdout",
     "output_type": "stream",
     "text": [
      "(3, 100)\n"
     ]
    }
   ],
   "source": [
    "# Prepare data.\n",
    "X, y = datasets.make_classification(\n",
    "    n_samples=100, n_features=num_features,n_clusters_per_class=1, n_classes=3, random_state=0\n",
    ")\n",
    "\n",
    "\n",
    "X = preprocessing.Normalizer().fit_transform(X)\n",
    "multi_svm = MultiClassSVM(3, k_fun, 1)\n",
    "multi_svm.fit(X, y)\n",
    "multi_svm."
   ]
  },
  {
   "cell_type": "code",
   "execution_count": 36,
   "metadata": {},
   "outputs": [
    {
     "name": "stdout",
     "output_type": "stream",
     "text": [
      "acc,  0.84999996\n"
     ]
    }
   ],
   "source": [
    "\n",
    "\n",
    "\n",
    "y = jnp.array(y * 2.0 - 1)  # Transform labels from {0, 1} to {-1., 1.}.\n",
    "\n",
    "# lam =  lam\n",
    "lam  = 20\n",
    "k_fun = rbf_kernel\n",
    "C = 1.0 / lam\n",
    "bsvm = BinarySVM(k_fun, c=C)\n",
    "bsvm.fit(X, y)\n",
    "print(\"acc, \", jnp.mean(jnp.sign(bsvm.predict(X)*y)>0))\n"
   ]
  },
  {
   "cell_type": "code",
   "execution_count": 37,
   "metadata": {},
   "outputs": [],
   "source": [
    "import numpy as np"
   ]
  },
  {
   "cell_type": "code",
   "execution_count": 38,
   "metadata": {},
   "outputs": [
    {
     "name": "stdout",
     "output_type": "stream",
     "text": [
      "(100, 100)\n",
      "Solve SVM with sklearn.svm.SVC: \n",
      "acc,  0.91999996\n"
     ]
    }
   ],
   "source": [
    "C = 1.0 / lam\n",
    "K = np.array(bsvm.kernel_mat(X,X))\n",
    "print(K.shape)\n",
    "beta_fit_pg, svc= binary_kernel_svm_skl(K, y, C)\n",
    "\n",
    "print(\"acc, \", jnp.mean(jnp.sign(svc.predict(K)*y)>0))"
   ]
  },
  {
   "cell_type": "code",
   "execution_count": null,
   "metadata": {},
   "outputs": [],
   "source": []
  }
 ],
 "metadata": {
  "kernelspec": {
   "display_name": "DLP",
   "language": "python",
   "name": "python3"
  },
  "language_info": {
   "codemirror_mode": {
    "name": "ipython",
    "version": 3
   },
   "file_extension": ".py",
   "mimetype": "text/x-python",
   "name": "python",
   "nbconvert_exporter": "python",
   "pygments_lexer": "ipython3",
   "version": "3.10.12"
  }
 },
 "nbformat": 4,
 "nbformat_minor": 2
}

{
 "cells": [
  {
   "cell_type": "code",
   "execution_count": 1,
   "metadata": {},
   "outputs": [],
   "source": [
    "%load_ext autoreload\n",
    "%autoreload 2"
   ]
  },
  {
   "cell_type": "code",
   "execution_count": 2,
   "metadata": {},
   "outputs": [],
   "source": [
    "import jax.numpy as jnp\n",
    "import jax\n",
    "from jax import random, vmap, jit, lax\n",
    "from src.load_data import load_data\n",
    "from src.kmeans import SphericalKMeans\n",
    "from functools import partial\n",
    "from jax import random\n",
    "import jax.scipy as jsp\n",
    "import matplotlib.pyplot as plt"
   ]
  },
  {
   "cell_type": "code",
   "execution_count": 65,
   "metadata": {},
   "outputs": [],
   "source": [
    "def flatten_axes(a: jax.Array, start: int = 0, end: int = -1) -> jax.Array:\n",
    "    return a.reshape(a.shape[:start] + (-1,) + a.shape[end:][1:])\n",
    "\n",
    "\n",
    "def get_patched_op(length, patch_radius):\n",
    "    # @jit\n",
    "    def img_to_patches(img):\n",
    "        img_new = jnp.pad(\n",
    "            img, ((patch_radius, patch_radius), (patch_radius, patch_radius), (0, 0))\n",
    "        )\n",
    "        print(img_new.shape)\n",
    "\n",
    "        def _get_patch(c0, c1):\n",
    "            tmp = lax.dynamic_slice_in_dim(\n",
    "                img_new, c0 - patch_radius, 2 * patch_radius + 1, axis=0\n",
    "            )\n",
    "            return lax.dynamic_slice_in_dim(\n",
    "                tmp, c1 - patch_radius, 2 * patch_radius + 1, axis=1\n",
    "            )\n",
    "\n",
    "        get_patch = vmap(_get_patch, (None, 0), 0)\n",
    "        get_patch = vmap(get_patch, (0, None), 0)\n",
    "        index = jnp.arange(0, length) + patch_radius\n",
    "        patches = get_patch(index, index)\n",
    "        return patches\n",
    "\n",
    "    return vmap(img_to_patches, 0, 0)\n",
    "\n",
    "\n",
    "def patch_images(images, patch_radius):\n",
    "    # take images in the form NxCxCxM\n",
    "    # return images in the form NxCxCx(M*(2patch_radius+1)^2)\n",
    "    image_length = images.shape[1]\n",
    "    patcher = get_patched_op(image_length, patch_radius)\n",
    "    return flatten_axes(patcher(images), start=-3)\n",
    "\n",
    "\n",
    "def sample_patches(key, images, num_samples):\n",
    "    # images NxCxCxM\n",
    "    # return (Num_patches x M)\n",
    "    flat_images = flatten_axes(images, 0, 2)\n",
    "    samples = random.choice(\n",
    "        key, flat_images, shape=(num_samples,), replace=False, axis=0\n",
    "    )\n",
    "    return samples\n",
    "\n",
    "\n",
    "def train_forward(\n",
    "    key, images, elem_wise_func, num_centroids=20, num_samples=10_000, num_iter=500\n",
    "):\n",
    "    sample_images = sample_patches(key, images, num_samples)\n",
    "    norms = jnp.linalg.norm(sample_images, axis=1, keepdims=True)\n",
    "    norms = jnp.where(norms < 1e-6, 1e-6, norms)\n",
    "    sample_images = sample_images / norms\n",
    "    centroids = (\n",
    "        SphericalKMeans(nb_clusters=num_centroids, max_iter=num_iter)\n",
    "        .fit(sample_images)[0]\n",
    "        .T\n",
    "    )\n",
    "    transform_mat = jnp.real(jsp.linalg.sqrtm(elem_wise_func(centroids.T @ centroids)))\n",
    "    return centroids, transform_mat\n",
    "\n",
    "\n",
    "def forward_pass(images, element_wise, centroids, transform_mat, sections=32):\n",
    "    @jit\n",
    "    def _one_pixel(p):\n",
    "        norm = jnp.max(jnp.array([jnp.linalg.norm(p), 1e-6]))\n",
    "        inter = element_wise(centroids.T @ p / norm)\n",
    "        return norm * transform_mat @ inter\n",
    "\n",
    "    batches = jnp.array_split(images, sections)\n",
    "    output = []\n",
    "    for batch in batches:\n",
    "        output.append(jnp.apply_along_axis(_one_pixel, -1, batch))\n",
    "    return jnp.concatenate(output, axis=0)\n",
    "\n",
    "\n",
    "def one_layer_gaussian_pooling(images, dilation, sigma):\n",
    "    images = images[:, :, :, jnp.newaxis]\n",
    "    x = jnp.linspace(-4, 4, 9)\n",
    "    gauss_kernel = jsp.stats.norm.pdf(x, scale=sigma) * jsp.stats.norm.pdf(\n",
    "        x[:, None], scale=sigma\n",
    "    )\n",
    "    kernel = gauss_kernel[:, :, jnp.newaxis, jnp.newaxis]\n",
    "    out = lax.conv(\n",
    "        jnp.transpose(images, [0, 3, 1, 2]),  # lhs = NCHW image tensor\n",
    "        jnp.transpose(kernel, [3, 2, 0, 1]),  # rhs = OIHW conv kernel tensor\n",
    "        (dilation, dilation),  # window strides\n",
    "        \"SAME\",\n",
    "    )  # padding mode\n",
    "    return jnp.squeeze(jnp.transpose(out, [0, 2, 3, 1]))\n",
    "\n",
    "\n",
    "gaussian_pooling = vmap(one_layer_gaussian_pooling, (3, None, None), 3)\n",
    "\n",
    "\n",
    "class KNN:\n",
    "    def __init__(\n",
    "        self, element_wise_fun, patch_sizes=[], dimensions=[], pooling=[]\n",
    "    ) -> None:\n",
    "        self.patch_size = patch_sizes\n",
    "\n",
    "    def train(self, images):\n",
    "        pass\n",
    "\n",
    "    def forward(self, images, batch_size):\n",
    "        pass"
   ]
  },
  {
   "cell_type": "code",
   "execution_count": 66,
   "metadata": {},
   "outputs": [
    {
     "name": "stdout",
     "output_type": "stream",
     "text": [
      "(5000, 32, 32, 3) (5000,) (2000, 32, 32, 3)\n"
     ]
    }
   ],
   "source": [
    "Xtr, Ytr, Xte = load_data(\"./data\")\n",
    "print(Xtr.shape, Ytr.shape, Xte.shape)"
   ]
  },
  {
   "cell_type": "code",
   "execution_count": 68,
   "metadata": {},
   "outputs": [
    {
     "name": "stdout",
     "output_type": "stream",
     "text": [
      "(36, 36, 3)\n",
      "Spherical Kmean main loop starts\n",
      "Spherical K means at iter 10 :  mean cosine similarity 0.4706\n",
      "Spherical K means at iter 20 :  mean cosine similarity 0.4739\n",
      "Spherical K means at iter 30 :  mean cosine similarity 0.4741\n",
      "Spherical K means at iter 40 :  mean cosine similarity 0.4744\n",
      "Spherical K means at iter 50 :  mean cosine similarity 0.4745\n",
      "End of main loop\n",
      "(75, 20) (20, 20)\n"
     ]
    }
   ],
   "source": [
    "patch_radius = 2\n",
    "num_centroids = 20\n",
    "key = random.key(42)\n",
    "patched_images = patch_images(Xtr, patch_radius)\n",
    "alpha_kernel_func = lambda x, alpha: jnp.exp(alpha * (x + 1))\n",
    "kernel_func = partial(alpha_kernel_func, 1)\n",
    "centroids, transform_mat = train_forward(\n",
    "    key, patched_images, kernel_func, num_centroids\n",
    ")\n",
    "\n",
    "print(centroids.shape, transform_mat.shape)\n",
    "forward_output = forward_pass(patched_images, kernel_func, centroids, transform_mat)\n",
    "print(forward_output.shape)\n",
    "pooled_forward_output = gaussian_pooling(forward_output, 2, 1)\n",
    "print(pooled_forward_output.shape)"
   ]
  },
  {
   "cell_type": "code",
   "execution_count": 63,
   "metadata": {},
   "outputs": [],
   "source": [
    "def one_layer_gaussian_pooling(images, dilation, sigma):\n",
    "    images = images[:, :, :, jnp.newaxis]\n",
    "    x = jnp.linspace(-4, 4, 9)\n",
    "    gauss_kernel = jsp.stats.norm.pdf(x, scale=sigma) * jsp.stats.norm.pdf(\n",
    "        x[:, None], scale=sigma\n",
    "    )\n",
    "    kernel = gauss_kernel[:, :, jnp.newaxis, jnp.newaxis]\n",
    "    out = lax.conv(\n",
    "        jnp.transpose(images, [0, 3, 1, 2]),  # lhs = NCHW image tensor\n",
    "        jnp.transpose(kernel, [3, 2, 0, 1]),  # rhs = OIHW conv kernel tensor\n",
    "        (dilation, dilation),  # window strides\n",
    "        \"SAME\",\n",
    "    )  # padding mode\n",
    "    return jnp.squeeze(jnp.transpose(out, [0, 2, 3, 1]))\n",
    "\n",
    "\n",
    "gaussian_pooling = vmap(one_layer_gaussian_pooling, (3, None, None), 3)"
   ]
  },
  {
   "cell_type": "code",
   "execution_count": 64,
   "metadata": {},
   "outputs": [
    {
     "name": "stdout",
     "output_type": "stream",
     "text": [
      "(5000, 32, 32)\n",
      "(9, 9, 1, 1)\n",
      "(5000, 16, 16)\n"
     ]
    }
   ],
   "source": [
    "gaussian_out = one_layer_gaussian_pooling(forward_output[:, :, :, 1], 2, 1)\n",
    "print(gaussian_out.shape)"
   ]
  },
  {
   "cell_type": "code",
   "execution_count": 62,
   "metadata": {},
   "outputs": [
    {
     "name": "stdout",
     "output_type": "stream",
     "text": [
      "(5000, 16, 16, 20)\n"
     ]
    }
   ],
   "source": [
    "print(gaussian_out.shape)"
   ]
  },
  {
   "cell_type": "code",
   "execution_count": null,
   "metadata": {},
   "outputs": [],
   "source": [
    "in_channels = forward_output.shape[-1]\n",
    "sigma = 1\n",
    "x = jnp.linspace(-3, 3, 7)\n",
    "dilation_rate = 2\n",
    "kernel = jnp.zeros((7, 7, in_channels, in_channels), dtype=jnp.float32)  # HWIO\n",
    "gauss_kernel = jsp.stats.norm.pdf(x, scale=sigma) * jsp.stats.norm.pdf(\n",
    "    x[:, None], scale=sigma\n",
    ")\n",
    "kernel += gauss_kernel[:, :, jnp.newaxis, jnp.newaxis]\n",
    "print(\"Input shape: \", forward_output.shape)\n",
    "print(\"Kernel shape: \", gauss_kernel.shape)\n",
    "print(\"Input shape transposed: \", jnp.transpose(forward_output, [0, 3, 1, 2]).shape)\n",
    "print(\"Kernel shape transposed: \", jnp.transpose(kernel, [3, 2, 0, 1]).shape)\n",
    "\n",
    "out = lax.conv(\n",
    "    jnp.transpose(forward_output, [0, 3, 1, 2]),  # lhs = NCHW image tensor\n",
    "    jnp.transpose(kernel, [3, 2, 0, 1]),  # rhs = OIHW conv kernel tensor\n",
    "    (2, 2),  # window strides\n",
    "    \"SAME\",\n",
    ")  # padding mode\n",
    "print(out.shape)\n",
    "print(jnp.transpose(out, [0, 2, 3, 1]).shape)"
   ]
  },
  {
   "cell_type": "code",
   "execution_count": null,
   "metadata": {},
   "outputs": [],
   "source": [
    "def on_layer_gaussian_pauling(images, dilation, sigma):\n",
    "    x = jnp.linspace(-4, 4, 9)\n",
    "    kernel = jnp.zeros((9, 9, 1, 1), dtype=jnp.float32)  # HWIO\n",
    "    gauss_kernel = jsp.stats.norm.pdf(x, scale=sigma) * jsp.stats.norm.pdf(\n",
    "        x[:, None], scale=sigma\n",
    "    )\n",
    "    kernel += gauss_kernel[:, :, jnp.newaxis, jnp.newaxis]\n",
    "    kernel = jsp.stats.norm.pdf(x, scale=sigma) * jsp.stats.norm.pdf(\n",
    "        x[:, None], scale=sigma\n",
    "    )\n",
    "    out = lax.conv(\n",
    "        jnp.transpose(images, [0, 3, 1, 2]),  # lhs = NCHW image tensor\n",
    "        jnp.transpose(kernel, [3, 2, 0, 1]),  # rhs = OIHW conv kernel tensor\n",
    "        (dilation, dilation),  # window strides\n",
    "        \"SAME\",\n",
    "    )  # padding mode\n",
    "    return jnp.transpose(out, [0, 2, 3, 1])"
   ]
  },
  {
   "cell_type": "code",
   "execution_count": null,
   "metadata": {},
   "outputs": [],
   "source": [
    "kernel = jnp.zeros((3, 3, 3, 1), dtype=jnp.float32)\n",
    "print(kernel.shape)\n",
    "kernel += jnp.array([[1, 1, 0], [1, 0, -1], [0, -1, -1]])[\n",
    "    :, :, jnp.newaxis, jnp.newaxis\n",
    "]\n",
    "print(kernel.shape)\n",
    "\n",
    "print(\"Edge Conv kernel:\")\n",
    "plt.imshow(kernel[:, :, 0, 0])\n",
    "plt.show()\n",
    "# NHWC layout\n",
    "img = jnp.zeros((1, 200, 198, 3), dtype=jnp.float32)\n",
    "for k in range(3):\n",
    "    x = 30 + 60 * k\n",
    "    y = 20 + 60 * k\n",
    "    img = img.at[0, x : x + 10, y : y + 10, k].set(1.0)\n",
    "\n",
    "print(\"Original Image:\")\n",
    "plt.imshow(img[0])\n",
    "plt.show()\n",
    "\n",
    "dilation_rate = 2\n",
    "from jax import lax\n",
    "\n",
    "out = lax.conv(\n",
    "    jnp.transpose(img, [0, 3, 1, 2]),  # lhs = NCHW image tensor\n",
    "    jnp.transpose(kernel, [3, 2, 0, 1]),  # rhs = OIHW conv kernel tensor\n",
    "    (2, 2),  # window strides\n",
    "    \"SAME\",\n",
    ")  # padding mode\n",
    "plt.imshow(jnp.array(out)[0, 0, :, :])\n",
    "plt.show()"
   ]
  },
  {
   "cell_type": "code",
   "execution_count": null,
   "metadata": {},
   "outputs": [],
   "source": []
  },
  {
   "cell_type": "code",
   "execution_count": null,
   "metadata": {},
   "outputs": [],
   "source": []
  },
  {
   "cell_type": "code",
   "execution_count": null,
   "metadata": {},
   "outputs": [],
   "source": [
    "forward_output.shape"
   ]
  },
  {
   "cell_type": "code",
   "execution_count": null,
   "metadata": {},
   "outputs": [],
   "source": [
    "def _one_pixel(p):\n",
    "    norm = jnp.linalg.norm(p)\n",
    "    inter = kernel_func(centroids_Z.T @ p / norm)\n",
    "    return norm * k_mat @ inter\n",
    "\n",
    "\n",
    "forward_pass = jnp.apply_along_axis(_one_pixel, -1, image_patched)"
   ]
  },
  {
   "cell_type": "code",
   "execution_count": null,
   "metadata": {},
   "outputs": [],
   "source": [
    "# def flatten_axes(a: jax.Array, start: int = 0, end: int = -1) -> jax.Array:\n",
    "#     return a.reshape(a.shape[:start] + (-1,) + a.shape[end:][1:])\n",
    "\n",
    "# def sample_patches(key, images, num_patches):\n",
    "#     #images NxCxCxM\n",
    "#     #retrun (Num_patches x M)\n",
    "#     flat_images = flatten_axes(images, 0,2)\n",
    "#     samples = random.choice(key,flat_images,shape=(num_patches,),replace=False, axis=0),\n",
    "#     return samples[0]\n",
    "\n",
    "# def get_centroids():\n",
    "#     pass"
   ]
  },
  {
   "cell_type": "code",
   "execution_count": null,
   "metadata": {},
   "outputs": [],
   "source": []
  },
  {
   "cell_type": "code",
   "execution_count": null,
   "metadata": {},
   "outputs": [],
   "source": [
    "key = random.PRNGKey(42)\n",
    "patch_radius = 1\n",
    "batch_size = 5\n",
    "patch_sampling_num = 1000\n",
    "num_of_centroids = 20\n",
    "batch_size = 50\n",
    "channel_len = Xtr.shape[1]\n",
    "patcher = get_patched_op(channel_len, patch_radius)\n",
    "image_patched = patcher(Xtr[:batch_size, :, :, :])\n",
    "# print(image_patched.shape)\n",
    "image_patched = flatten_axes(image_patched, start=-3)\n",
    "sampled_patches = sample_patches(key, image_patched, patch_sampling_num)\n",
    "normalized_sampled_patched = sampled_patches / (\n",
    "    jnp.linalg.norm(sampled_patches, axis=1, keepdims=True) + 1e-6\n",
    ")\n",
    "# print(normalized_sampled_patched.shape)\n",
    "centroids_Z = (\n",
    "    SphericalKMeans(nb_clusters=num_of_centroids).fit(normalized_sampled_patched)[0].T\n",
    ")\n",
    "##forward pass\n",
    "print(image_patched.shape)\n",
    "print(centroids_Z.shape)\n",
    "\n",
    "##transform_matrix\n",
    "# print((centroids_Z.T@centroids_Z).shape)\n",
    "k_mat = jax.scipy.linalg.sqrtm(kernel_func(centroids_Z.T @ centroids_Z))\n",
    "##forward pass"
   ]
  },
  {
   "cell_type": "code",
   "execution_count": null,
   "metadata": {},
   "outputs": [],
   "source": [
    "def _one_pixel(p):\n",
    "    norm = jnp.linalg.norm(p)\n",
    "    inter = kernel_func(centroids_Z.T @ p / norm)\n",
    "    return norm * k_mat @ inter\n",
    "\n",
    "\n",
    "forward_pass = jnp.apply_along_axis(_one_pixel, -1, image_patched)"
   ]
  },
  {
   "cell_type": "code",
   "execution_count": null,
   "metadata": {},
   "outputs": [],
   "source": [
    "print(forward_pass.shape)"
   ]
  },
  {
   "cell_type": "markdown",
   "metadata": {},
   "source": []
  },
  {
   "cell_type": "code",
   "execution_count": null,
   "metadata": {},
   "outputs": [],
   "source": [
    "key = jax.random.PRNGKey(42)\n",
    "k, key = random.split(key, 2)\n",
    "skeans = SphericalKMeans(20)\n",
    "data = random.normal(k, shape=(100, 10, 10_000))\n",
    "centroids, _ = skeans.fit(data)\n",
    "print(centroids.shape)"
   ]
  },
  {
   "cell_type": "code",
   "execution_count": null,
   "metadata": {},
   "outputs": [],
   "source": [
    "def get_gradient_transform(image_shape, dim_out):\n",
    "    theta = jnp.linspace(0, 2.0 * jnp.pi, dim_out + 1)[:-1]\n",
    "\n",
    "    def gradient_transform_channel(image, angle):\n",
    "        dx, dy = jnp.gradient(image)\n",
    "\n",
    "    pass\n",
    "\n",
    "\n",
    "def get_shape_transform(image_shape, patch_shape):\n",
    "    pass"
   ]
  },
  {
   "cell_type": "code",
   "execution_count": null,
   "metadata": {},
   "outputs": [],
   "source": [
    "old_shape = (32, 32)\n",
    "# @jit"
   ]
  },
  {
   "cell_type": "code",
   "execution_count": null,
   "metadata": {},
   "outputs": [],
   "source": [
    "key = jax.random.PRNGKey(42)\n",
    "img = random.normal(key, shape=(32, 32, 3))\n",
    "img_to_patches = vmap(get_patched_op(32, 2), 0, 0)\n",
    "img = img_to_patches(Xtr)\n",
    "img = img.reshape(5000, 32, 32, -1)\n",
    "img.shape"
   ]
  },
  {
   "cell_type": "code",
   "execution_count": null,
   "metadata": {},
   "outputs": [],
   "source": [
    "# extract_patch = img_new[\n",
    "#     center[0] : 1 + center[0] + 2 * pad_width,\n",
    "#     center[1] : 1 + center[1] + 2 * pad_width,\n",
    "#     :,\n",
    "# ]\n",
    "\n",
    "# patch_radius = 2\n",
    "# img_new = jnp.pad(img, ((pad, pad), (pad, pad), (0, 0)))\n",
    "# center = (32, 32)\n",
    "# extract_patch = img_new[\n",
    "#     center[0] : 1 + center[0] + 2 * pad_width,\n",
    "#     center[1] : 1 + center[1] + 2 * pad_width,\n",
    "#     :,\n",
    "# ]\n",
    "# extract_patch.shape"
   ]
  },
  {
   "cell_type": "code",
   "execution_count": null,
   "metadata": {},
   "outputs": [],
   "source": [
    "patches = img_to_patches(img, patch_radius=2)\n",
    "patches = patches.reshape(32, 32, -1)\n",
    "patches.shape"
   ]
  },
  {
   "cell_type": "code",
   "execution_count": null,
   "metadata": {},
   "outputs": [],
   "source": []
  }
 ],
 "metadata": {
  "kernelspec": {
   "display_name": "DLP",
   "language": "python",
   "name": "python3"
  },
  "language_info": {
   "codemirror_mode": {
    "name": "ipython",
    "version": 3
   },
   "file_extension": ".py",
   "mimetype": "text/x-python",
   "name": "python",
   "nbconvert_exporter": "python",
   "pygments_lexer": "ipython3",
   "version": "3.12.1"
  }
 },
 "nbformat": 4,
 "nbformat_minor": 2
}

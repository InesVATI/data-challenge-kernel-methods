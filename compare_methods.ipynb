{
 "cells": [
  {
   "cell_type": "code",
   "execution_count": 1,
   "metadata": {},
   "outputs": [],
   "source": [
    "%load_ext autoreload\n",
    "%autoreload 2"
   ]
  },
  {
   "cell_type": "code",
   "execution_count": 19,
   "metadata": {},
   "outputs": [],
   "source": [
    "from kernelchallenge.load_data import load_data\n",
    "from sklearn.preprocessing import StandardScaler\n",
    "import jax.numpy as jnp\n",
    "from kernelchallenge.classifiers.svm import MultiClassKernelSVM\n",
    "import pandas as pd"
   ]
  },
  {
   "cell_type": "code",
   "execution_count": 3,
   "metadata": {},
   "outputs": [
    {
     "name": "stdout",
     "output_type": "stream",
     "text": [
      "Xtr (5000, 3072); Ytr (5000,); Xte (2000, 3072)\n",
      "Xtr (5000, 32, 32, 3); Ytr (5000,); Xte (2000, 32, 32, 3)\n"
     ]
    }
   ],
   "source": [
    "data_folder = 'data'\n",
    "Xtr_flat, Ytr_flat, Xte_flat = load_data(data_folder, reshape=False)\n",
    "print(f\"Xtr {Xtr_flat.shape}; Ytr {Ytr_flat.shape}; Xte {Xte_flat.shape}\")\n",
    "\n",
    "Xtr, Ytr, Xte = load_data(data_folder, reshape=True)\n",
    "print(f\"Xtr {Xtr.shape}; Ytr {Ytr.shape}; Xte {Xte.shape}\")"
   ]
  },
  {
   "cell_type": "code",
   "execution_count": 4,
   "metadata": {},
   "outputs": [
    {
     "name": "stdout",
     "output_type": "stream",
     "text": [
      "Xtr mean [-2.47982934e-04 -1.74261584e-03 -9.22621259e-05 ...  2.58250453e-03\n",
      "  2.19476255e-03  3.04047441e-03] ; var [0.00167989 0.00118951 0.00118582 ... 0.00124412 0.00126839 0.00177964]\n",
      "Xtr mean [-2.84217094e-18 -7.10542736e-18 -1.84741111e-17 ... -1.84741111e-17\n",
      " -8.52651283e-18 -1.24344979e-17] ; var [1. 1. 1. ... 1. 1. 1.]\n"
     ]
    }
   ],
   "source": [
    "print(f\"Xtr mean {Xtr_flat.mean(axis=0)} ; var {Xtr_flat.var(axis=0)}\")\n",
    "\n",
    "# should we z-scored the data ?\n",
    "scaler = StandardScaler()\n",
    "Xtr_flat = scaler.fit_transform(Xtr_flat)\n",
    "print(f'Xtr mean {Xtr_flat.mean(axis=0)} ; var {Xtr_flat.var(axis=0)}')\n"
   ]
  },
  {
   "cell_type": "markdown",
   "metadata": {},
   "source": [
    "### Kernel SVM"
   ]
  },
  {
   "cell_type": "code",
   "execution_count": 9,
   "metadata": {},
   "outputs": [],
   "source": [
    "n_classes = 10\n",
    "ntrain = 500"
   ]
  },
  {
   "cell_type": "code",
   "execution_count": 46,
   "metadata": {},
   "outputs": [],
   "source": [
    "# from kernelchallenge.classifiers.svm import rbf_kernel"
   ]
  },
  {
   "cell_type": "code",
   "execution_count": 10,
   "metadata": {},
   "outputs": [],
   "source": [
    "# my_svm = MultiClassSVM(num_classes=n_classes, kernel_func=rbf_kernel, c=1)\n",
    "# my_svm.fit(Xtr_flat[:ntrain], Ytr_flat[:ntrain])\n",
    "# pred = my_svm.predict(Xtr_flat[ntrain:])\n",
    "\n",
    "# print(f\"Accuracy {jnp.mean(pred == Ytr_flat[ntrain:])}\")\n"
   ]
  },
  {
   "cell_type": "code",
   "execution_count": 6,
   "metadata": {},
   "outputs": [],
   "source": [
    "from kernelchallenge.kernels import RBF"
   ]
  },
  {
   "cell_type": "code",
   "execution_count": 14,
   "metadata": {},
   "outputs": [
    {
     "name": "stdout",
     "output_type": "stream",
     "text": [
      "Function fit took 4.92 seconds\n",
      "Function predict took 43.04 seconds\n",
      "Accuracy 0.14733333885669708\n"
     ]
    }
   ],
   "source": [
    "sigma = jnp.sqrt(Xtr_flat.shape[1])\n",
    "c=1\n",
    "kernel_func = RBF(sigma=sigma)\n",
    "my_svm = MultiClassKernelSVM(num_classes=n_classes, kernel_func=kernel_func, c=c)\n",
    "my_svm.fit(Xtr_flat[:ntrain], Ytr_flat[:ntrain])\n",
    "pred = my_svm.predict(Xtr_flat[ntrain:])\n",
    "\n",
    "print(f\"Accuracy {jnp.mean(pred == Ytr_flat[ntrain:])}\")\n"
   ]
  },
  {
   "cell_type": "code",
   "execution_count": 16,
   "metadata": {},
   "outputs": [
    {
     "name": "stdout",
     "output_type": "stream",
     "text": [
      "Function fit took 421.93 seconds\n"
     ]
    }
   ],
   "source": [
    "ntrain = Xtr_flat.shape[0]\n",
    "kernel_func = RBF(sigma=sigma)\n",
    "my_svm = MultiClassKernelSVM(num_classes=n_classes, kernel_func=kernel_func, c=c)\n",
    "my_svm.fit(Xtr_flat[:ntrain], Ytr_flat[:ntrain])"
   ]
  },
  {
   "cell_type": "code",
   "execution_count": null,
   "metadata": {},
   "outputs": [],
   "source": [
    "Xte = scaler.transform(Xte_flat)\n",
    "Yte = my_svm.predict(Xte)\n",
    "Yte = {'Prediction' : Yte}\n",
    "dataframe = pd.DataFrame(Yte)\n",
    "dataframe.index += 1"
   ]
  },
  {
   "cell_type": "code",
   "execution_count": 21,
   "metadata": {},
   "outputs": [],
   "source": [
    "dataframe.to_csv(f'{data_folder}/Yte.csv', index_label='Id')"
   ]
  },
  {
   "cell_type": "code",
   "execution_count": 32,
   "metadata": {},
   "outputs": [],
   "source": [
    "# TEST ON ANOTHER DATASET\n",
    "# from sklearn import datasets\n",
    "# from sklearn import preprocessing\n",
    "# from absl import flags \n",
    "\n",
    "\n",
    "# flags.DEFINE_float(\"tol\", 1e-5, \"Tolerance of solvers.\")\n",
    "# flags.DEFINE_float(\"l2reg\", 1000., \"Regularization parameter. Must be positive.\")\n",
    "# flags.DEFINE_integer(\"num_samples\", 20, \"Size of train set.\")\n",
    "# flags.DEFINE_integer(\"num_features\", 5, \"Features dimension.\")\n",
    "# flags.DEFINE_integer(\"num_classes\", 3, \"Number of classes.\")\n",
    "# flags.DEFINE_bool(\"verbose\", False, \"Verbosity.\")\n",
    "# FLAGS = flags.FLAGS\n",
    "\n",
    "# num_samples = 400\n",
    "# num_features = 5\n",
    "# num_classes = 3\n",
    "\n",
    "# X, y = datasets.make_classification(n_samples=num_samples, n_features=num_features,\n",
    "#                                       n_informative=3, n_classes=num_classes, random_state=0)\n",
    "# X = preprocessing.Normalizer().fit_transform(X)\n",
    "# Y = preprocessing.LabelBinarizer().fit_transform(y)\n",
    "# Y = jnp.array(Y)"
   ]
  },
  {
   "cell_type": "code",
   "execution_count": 34,
   "metadata": {},
   "outputs": [
    {
     "name": "stdout",
     "output_type": "stream",
     "text": [
      "Function fit took 1.88 seconds\n",
      "Function predict took 0.20 seconds\n",
      "Accuracy 0.7899999618530273\n"
     ]
    }
   ],
   "source": [
    "# ntrain = 300\n",
    "# my_svm = MultiClassSVM(num_classes=n_classes, kernel_func=rbf_kernel, c=1)\n",
    "# my_svm.fit(X[:ntrain], y[:ntrain])\n",
    "# pred = my_svm.predict(X[ntrain:])\n",
    "\n",
    "# print(f\"Accuracy {jnp.mean(pred == y[ntrain:])}\")\n"
   ]
  },
  {
   "cell_type": "code",
   "execution_count": null,
   "metadata": {},
   "outputs": [],
   "source": []
  }
 ],
 "metadata": {
  "kernelspec": {
   "display_name": "challenge_env",
   "language": "python",
   "name": "python3"
  },
  "language_info": {
   "codemirror_mode": {
    "name": "ipython",
    "version": 3
   },
   "file_extension": ".py",
   "mimetype": "text/x-python",
   "name": "python",
   "nbconvert_exporter": "python",
   "pygments_lexer": "ipython3",
   "version": "3.10.12"
  }
 },
 "nbformat": 4,
 "nbformat_minor": 2
}

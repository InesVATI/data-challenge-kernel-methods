{
 "cells": [
  {
   "cell_type": "code",
   "execution_count": 1,
   "id": "6ca38efd",
   "metadata": {
    "execution": {
     "iopub.execute_input": "2024-03-26T07:31:43.339708Z",
     "iopub.status.busy": "2024-03-26T07:31:43.339359Z",
     "iopub.status.idle": "2024-03-26T07:31:43.364935Z",
     "shell.execute_reply": "2024-03-26T07:31:43.364039Z"
    },
    "papermill": {
     "duration": 0.035645,
     "end_time": "2024-03-26T07:31:43.367462",
     "exception": false,
     "start_time": "2024-03-26T07:31:43.331817",
     "status": "completed"
    },
    "tags": []
   },
   "outputs": [],
   "source": [
    "%load_ext autoreload\n",
    "%autoreload 2"
   ]
  },
  {
   "cell_type": "code",
   "execution_count": 1,
   "id": "460c7ee1",
   "metadata": {
    "execution": {
     "iopub.execute_input": "2024-03-26T07:31:43.380176Z",
     "iopub.status.busy": "2024-03-26T07:31:43.379842Z",
     "iopub.status.idle": "2024-03-26T07:31:44.971103Z",
     "shell.execute_reply": "2024-03-26T07:31:44.970160Z"
    },
    "papermill": {
     "duration": 1.600318,
     "end_time": "2024-03-26T07:31:44.973491",
     "exception": false,
     "start_time": "2024-03-26T07:31:43.373173",
     "status": "completed"
    },
    "tags": []
   },
   "outputs": [],
   "source": [
    "# !git clone -b master 'https://github.com/InesVATI/data-challenge-kernel-methods.git'"
   ]
  },
  {
   "cell_type": "code",
   "execution_count": 2,
   "id": "7da7253d",
   "metadata": {
    "execution": {
     "iopub.execute_input": "2024-03-26T07:31:44.987166Z",
     "iopub.status.busy": "2024-03-26T07:31:44.986800Z",
     "iopub.status.idle": "2024-03-26T07:31:46.010427Z",
     "shell.execute_reply": "2024-03-26T07:31:46.009173Z"
    },
    "papermill": {
     "duration": 1.03331,
     "end_time": "2024-03-26T07:31:46.012842",
     "exception": false,
     "start_time": "2024-03-26T07:31:44.979532",
     "status": "completed"
    },
    "tags": []
   },
   "outputs": [],
   "source": [
    "# %cd data-challenge-kernel-methods\n",
    "\n",
    "# %ls"
   ]
  },
  {
   "cell_type": "code",
   "execution_count": 3,
   "id": "a399bd40",
   "metadata": {
    "execution": {
     "iopub.execute_input": "2024-03-26T07:31:46.026789Z",
     "iopub.status.busy": "2024-03-26T07:31:46.026400Z",
     "iopub.status.idle": "2024-03-26T07:31:59.508263Z",
     "shell.execute_reply": "2024-03-26T07:31:59.507145Z"
    },
    "papermill": {
     "duration": 13.491868,
     "end_time": "2024-03-26T07:31:59.510806",
     "exception": false,
     "start_time": "2024-03-26T07:31:46.018938",
     "status": "completed"
    },
    "tags": []
   },
   "outputs": [],
   "source": [
    "# !pip install jaxopt"
   ]
  },
  {
   "cell_type": "code",
   "execution_count": 4,
   "id": "74690a37",
   "metadata": {
    "execution": {
     "iopub.execute_input": "2024-03-26T07:31:59.526939Z",
     "iopub.status.busy": "2024-03-26T07:31:59.525877Z",
     "iopub.status.idle": "2024-03-26T07:32:03.995999Z",
     "shell.execute_reply": "2024-03-26T07:32:03.994943Z"
    },
    "papermill": {
     "duration": 4.480446,
     "end_time": "2024-03-26T07:32:03.998413",
     "exception": false,
     "start_time": "2024-03-26T07:31:59.517967",
     "status": "completed"
    },
    "tags": []
   },
   "outputs": [],
   "source": [
    "from src.load_data import load_data\n",
    "import jax\n",
    "import jax.numpy as jnp\n",
    "from src.kmeans import SphericalKMeans\n",
    "from src.svm import MultiClassKernelSVM\n",
    "import pandas as pd\n",
    "from typing import Tuple\n",
    "from src.kernels import RBF\n",
    "import os\n",
    "import time\n",
    "import pickle"
   ]
  },
  {
   "cell_type": "markdown",
   "id": "7d9cd9c7",
   "metadata": {
    "papermill": {
     "duration": 0.006707,
     "end_time": "2024-03-26T07:32:04.012177",
     "exception": false,
     "start_time": "2024-03-26T07:32:04.005470",
     "status": "completed"
    },
    "tags": []
   },
   "source": [
    "# Train CKN and save models "
   ]
  },
  {
   "cell_type": "code",
   "execution_count": 5,
   "id": "cf0852e5",
   "metadata": {
    "execution": {
     "iopub.execute_input": "2024-03-26T07:32:04.027792Z",
     "iopub.status.busy": "2024-03-26T07:32:04.027275Z",
     "iopub.status.idle": "2024-03-26T07:32:04.085239Z",
     "shell.execute_reply": "2024-03-26T07:32:04.084109Z"
    },
    "papermill": {
     "duration": 0.06859,
     "end_time": "2024-03-26T07:32:04.087491",
     "exception": false,
     "start_time": "2024-03-26T07:32:04.018901",
     "status": "completed"
    },
    "tags": []
   },
   "outputs": [],
   "source": [
    "def get_ovelapping_patch_idx(h : int, w:int, patch_size: int =3):\n",
    "        \"\"\"  \"\"\"\n",
    "        xp, yp = jnp.meshgrid(jnp.arange(w-patch_size+1), jnp.arange(h-patch_size+1))\n",
    "        x, y = jnp.meshgrid(jnp.arange(patch_size), jnp.arange(patch_size))\n",
    "        X = x[None, None, ...] + xp[..., None, None]\n",
    "        X = X.reshape(-1, patch_size, patch_size)\n",
    "        Y = y[None, None, ...] + yp[..., None, None]\n",
    "        Y = Y.reshape(-1, patch_size, patch_size)\n",
    "\n",
    "        return (Y, X)\n",
    "\n",
    "def normalize_row(X : jnp.ndarray) -> Tuple[jnp.ndarray, jnp.ndarray]:\n",
    "     norm_rows = jnp.linalg.norm(X, axis=1, ord=2, keepdims=True)\n",
    "     return X / (norm_rows + 1e-5), norm_rows\n",
    "\n",
    "def kappa(x : jnp.ndarray, alpha : float):\n",
    "     \"\"\" gaussian function \"\"\"\n",
    "     return jnp.exp(alpha * (x - 1))\n",
    "\n",
    "def linear_gaussian_pooling(map : jnp.ndarray, beta : float = 1, sampling_factor : int = 2):\n",
    "    h, w, c = map.shape\n",
    "    hpool = h // sampling_factor\n",
    "    conv_pool = jnp.zeros((hpool, hpool, c))\n",
    "    z = jnp.stack(jnp.meshgrid(jnp.arange(h), jnp.arange(w), indexing='ij'), axis=2)\n",
    "    for i in range(0, hpool):\n",
    "        for j in range(0, hpool):\n",
    "            pixel = jnp.array([i*sampling_factor, j*sampling_factor])\n",
    "            conv_pool = conv_pool.at[i,j].set(jnp.sum(map * jnp.exp( - beta *  jnp.sum((pixel[None, None, :] - z)**2 , axis=2))[..., None], axis = (0, 1)))\n",
    "\n",
    "    return conv_pool\n",
    "\n",
    "\n",
    "class ConvKN:\n",
    "    \"\"\" CKN Layer \"\"\"\n",
    "\n",
    "    def __init__(self, patch_size:int, out_channels : int, sampling_factor : int = 2,\n",
    "                 n_patch_per_img_for_kmean : int = 10) -> None:\n",
    "        self.patch_size = patch_size\n",
    "        self.patch_idx = None\n",
    "        self.patch_pad_idx = None\n",
    "        self.Z = None\n",
    "        self.out_channels = out_channels\n",
    "        self.sampling_factor = sampling_factor\n",
    "        self.spherical_kmeans = SphericalKMeans(nb_clusters=self.out_channels, max_iter=1000)\n",
    "        self.n_patch_per_img_for_kmean = n_patch_per_img_for_kmean\n",
    "\n",
    "    def extract_patches_2d(self, img : jnp.ndarray, inference : bool = False):\n",
    "        if inference :\n",
    "            if self.patch_pad_idx is None:\n",
    "                h, w, _ = img.shape\n",
    "                self.patch_pad_idx = get_ovelapping_patch_idx(h, w, self.patch_size)\n",
    "            return img[self.patch_pad_idx]\n",
    "        else :\n",
    "            if self.patch_idx is None :\n",
    "                # to do once\n",
    "                h, w, _ = img.shape\n",
    "                self.patch_idx = get_ovelapping_patch_idx(h, w, self.patch_size)\n",
    "\n",
    "            return img[self.patch_idx]\n",
    "    \n",
    "    def train(self, key, input_maps):\n",
    "        \n",
    "        # extract random patches \n",
    "        batch_size, _, _, in_channels = input_maps.shape\n",
    "        X = jnp.empty((0, in_channels*self.patch_size**2))\n",
    "        for i in range(batch_size):\n",
    "            patches = self.extract_patches_2d(input_maps[i])\n",
    "            patches = patches.reshape(-1, in_channels*self.patch_size**2)\n",
    "            \n",
    "            # remove constant patches\n",
    "            non_cst_idx = jnp.any(patches != patches[:, [0]], axis=1) # to remove\n",
    "            n_patch = min(non_cst_idx.sum(), self.n_patch_per_img_for_kmean)\n",
    "            # n_patch = min(patches.shape[0], self.n_patch_per_img_for_kmean)\n",
    "            key, _ = jax.random.split(key)\n",
    "            X = jnp.vstack((X, \n",
    "                           jax.random.choice(key, patches[non_cst_idx], shape=(n_patch,), replace=False, axis=0))\n",
    "            )\n",
    "            \n",
    "        X = jax.random.permutation(key, X, axis=0)\n",
    "        # normalize row applying kmeans\n",
    "        X, _ = normalize_row(X) \n",
    "        print(f'For training kmeans, X shape {X.shape}')\n",
    "        self.Z, _ = self.spherical_kmeans.fit(X, init_centroids=self.Z) # centroids are normalized\n",
    "        \n",
    "        # compute linear weights\n",
    "        mat = kappa(self.Z.dot(self.Z.T), alpha = 1/ .5**2) # out_channels x out_channels\n",
    "        D, U = jnp.linalg.eigh(mat)\n",
    "        D = D.at[D<1e-6].set(1e-6)\n",
    "        inv_sqrt_D = jnp.diag(D  ** (-0.5))\n",
    "        self.W = U.dot(inv_sqrt_D.dot(U.T))         \n",
    "        \n",
    "\n",
    "    def __call__(self, input_maps : jnp.ndarray):\n",
    "        \"\"\"\n",
    "        Suppose images are squarred\n",
    "        :param input_maps : array of size (B, H, W, C) B is batch size, C is channel size (e.g. 3)\n",
    "        \"\"\"\n",
    "\n",
    "        if self.Z is None:\n",
    "             raise Warning('Filters Z have to be initialized or learned. Call .train() befor evaluating model')\n",
    "\n",
    "        batch_size, h, w, in_channels = input_maps.shape\n",
    "\n",
    "        for i in range(batch_size):\n",
    "            # add padding, so that there is a patch for each pixel in input map\n",
    "            pad = (self.patch_size - 1)\n",
    "            p = pad // 2\n",
    "            image = jnp.zeros((h+pad, w+pad, in_channels))\n",
    "            image = image.at[p:p+h, p:p+w, :].set(input_maps[i])\n",
    "\n",
    "            patches = self.extract_patches_2d(image, inference=True)\n",
    "            patches = patches.reshape(-1, in_channels*self.patch_size**2)\n",
    "\n",
    "            normalized_x, norm_x = normalize_row(patches)\n",
    "    \n",
    "            out_map = norm_x * kappa( normalized_x.dot(self.Z.T), alpha=1/(.25)).dot(self.W)\n",
    "            out_map = out_map.reshape(h, w, self.out_channels)\n",
    "            # linear pooling\n",
    "            beta = jnp.square(jnp.sqrt(2)/self.sampling_factor) # jnp.square(1 / (h*self.sampling_factor))\n",
    "\n",
    "            conv_pool = linear_gaussian_pooling(out_map, beta=beta,\n",
    "                                                sampling_factor=self.sampling_factor)\n",
    "            if i == 0:\n",
    "                out_maps = conv_pool[None, ...]\n",
    "            else :\n",
    "                out_maps = jnp.vstack((out_maps,\n",
    "                                    conv_pool[None, ...]))\n",
    "                \n",
    "            if jnp.isnan(out_maps).any():\n",
    "                print('i', i)\n",
    "                raise Warning(f'Output map has {jnp.isnan(out_maps).sum()} NaN values')\n",
    "            \n",
    "        return out_maps\n",
    "    \n",
    "\n",
    "class ModelCKN:\n",
    "    def __init__(self, patch_sizes : list,\n",
    "                 out_channels : list,\n",
    "                 subsampling_factors : list,\n",
    "                 n_patch_per_img_for_kmean : int = 20):\n",
    "        self.n_layers = len(out_channels)\n",
    "        self.layers = []\n",
    "        for i in range(self.n_layers):\n",
    "            self.layers.append( ConvKN(patch_size=patch_sizes[i], \n",
    "                                       out_channels=out_channels[i],\n",
    "                                       sampling_factor=subsampling_factors[i],\n",
    "                                       n_patch_per_img_for_kmean = n_patch_per_img_for_kmean)\n",
    "                                       )\n",
    "            \n",
    "    def train(self, key, input_maps, batch_size=2000):\n",
    "        keys = [key]\n",
    "\n",
    "        N = input_maps.shape[0]\n",
    "        train_idx = jax.random.choice(key, jnp.arange(N), (N//batch_size, batch_size), replace=False)\n",
    "        for b in range(len(train_idx)):\n",
    "            input_maps_layer = input_maps[train_idx[b]]\n",
    "            keys = jax.random.split(keys[-1], self.n_layers)\n",
    "            print('b', b)\n",
    "            for i in range(self.n_layers):\n",
    "                self.layers[i].train(keys[i], input_maps_layer)\n",
    "                input_maps_layer = self.layers[i](input_maps_layer)\n",
    "                print(f'Layer {i}: out max {input_maps_layer.max()} out min {input_maps_layer.min()} Z max {self.layers[i].Z.max()} W max {self.layers[i].W.max()}')\n",
    "                print(f'Output map shape {input_maps_layer.shape}')\n",
    "\n",
    "    def __call__(self, input_maps):\n",
    "    \n",
    "        for i in range(self.n_layers):\n",
    "            input_maps = self.layers[i](input_maps)\n",
    "\n",
    "        return input_maps"
   ]
  },
  {
   "cell_type": "code",
   "execution_count": 7,
   "id": "f9aa3579",
   "metadata": {},
   "outputs": [
    {
     "name": "stdout",
     "output_type": "stream",
     "text": [
      "Xtr (5000, 32, 32, 3); Ytr (5000,); Xte (2000, 32, 32, 3)\n"
     ]
    }
   ],
   "source": [
    "data_folder = os.path.join(os.getcwd(), 'data')\n",
    "Xtr, Ytr, Xte = load_data(data_folder, reshape=True)\n",
    "print(f\"Xtr {Xtr.shape}; Ytr {Ytr.shape}; Xte {Xte.shape}\")"
   ]
  },
  {
   "cell_type": "code",
   "execution_count": 8,
   "id": "d533ee4c",
   "metadata": {
    "execution": {
     "iopub.execute_input": "2024-03-26T07:32:12.582671Z",
     "iopub.status.busy": "2024-03-26T07:32:12.582302Z",
     "iopub.status.idle": "2024-03-26T07:32:12.611680Z",
     "shell.execute_reply": "2024-03-26T07:32:12.610857Z"
    },
    "papermill": {
     "duration": 0.0396,
     "end_time": "2024-03-26T07:32:12.614097",
     "exception": false,
     "start_time": "2024-03-26T07:32:12.574497",
     "status": "completed"
    },
    "tags": []
   },
   "outputs": [
    {
     "name": "stderr",
     "output_type": "stream",
     "text": [
      "An NVIDIA GPU may be present on this machine, but a CUDA-enabled jaxlib is not installed. Falling back to cpu.\n"
     ]
    },
    {
     "name": "stdout",
     "output_type": "stream",
     "text": [
      "For training kmeans, X shape (400, 12)\n",
      "Spherical Kmean main loop starts\n",
      "Spherical K means at iter 10 :  mean cosine similarity 0.8659\n",
      "End of main loop\n"
     ]
    },
    {
     "data": {
      "text/plain": [
       "Array(False, dtype=bool)"
      ]
     },
     "execution_count": 8,
     "metadata": {},
     "output_type": "execute_result"
    }
   ],
   "source": [
    "# Check ConvKN layer works\n",
    "key = jax.random.PRNGKey(6)\n",
    "model = ConvKN(patch_size=2, out_channels=64, sampling_factor=2, n_patch_per_img_for_kmean=20)\n",
    "model.train(key, Xtr[:20])\n",
    "out = model(Xtr[:20])\n",
    "jnp.isnan(out).any()"
   ]
  },
  {
   "cell_type": "code",
   "execution_count": 15,
   "id": "d931969d",
   "metadata": {
    "execution": {
     "iopub.execute_input": "2024-03-26T07:32:12.628898Z",
     "iopub.status.busy": "2024-03-26T07:32:12.628527Z",
     "iopub.status.idle": "2024-03-26T07:32:12.657330Z",
     "shell.execute_reply": "2024-03-26T07:32:12.656433Z"
    },
    "papermill": {
     "duration": 0.038873,
     "end_time": "2024-03-26T07:32:12.659708",
     "exception": false,
     "start_time": "2024-03-26T07:32:12.620835",
     "status": "completed"
    },
    "tags": []
   },
   "outputs": [],
   "source": [
    "# Maybe try 2 layers w [128, 256] out_channels and [3, 2] or [2, 1]  patch size \n",
    "key = jax.random.PRNGKey(9) \n",
    "myCKN = ModelCKN(patch_sizes=[3, 2, 2], \n",
    "                 out_channels=[64, 128, 256],\n",
    "                 subsampling_factors=[2, 4, 4],\n",
    "                 n_patch_per_img_for_kmean=20)\n",
    "key = jax.random.PRNGKey(0)\n",
    "t0 = time.time()\n",
    "idx = jax.random.choice(key, jnp.arange(5000), (2000,))\n",
    "myCKN.train(key, Xtr[idx], batch_size=500)\n",
    "t1 = time.time()\n",
    "\n",
    "print(f\"Training myCKN took {(t1-t0)/60:.1} min \")"
   ]
  },
  {
   "cell_type": "code",
   "execution_count": 11,
   "id": "297d4b02",
   "metadata": {},
   "outputs": [],
   "source": [
    "models_folder = os.path.join(os.getcwd(), 'models')"
   ]
  },
  {
   "cell_type": "code",
   "execution_count": 12,
   "id": "d1979760",
   "metadata": {
    "execution": {
     "iopub.execute_input": "2024-03-26T07:32:12.675709Z",
     "iopub.status.busy": "2024-03-26T07:32:12.675368Z",
     "iopub.status.idle": "2024-03-26T07:32:12.703591Z",
     "shell.execute_reply": "2024-03-26T07:32:12.702782Z"
    },
    "papermill": {
     "duration": 0.039394,
     "end_time": "2024-03-26T07:32:12.705940",
     "exception": false,
     "start_time": "2024-03-26T07:32:12.666546",
     "status": "completed"
    },
    "tags": []
   },
   "outputs": [],
   "source": [
    "if not os.path.exists(models_folder):\n",
    "    os.makedirs(models_folder)\n",
    "    \n",
    "with open(f'{models_folder}/myckn_f.pkl', 'wb') as f:\n",
    "    pickle.dump(myCKN, f)"
   ]
  },
  {
   "cell_type": "code",
   "execution_count": 19,
   "id": "493ee054",
   "metadata": {
    "execution": {
     "iopub.execute_input": "2024-03-26T07:32:12.721265Z",
     "iopub.status.busy": "2024-03-26T07:32:12.720480Z",
     "iopub.status.idle": "2024-03-26T07:32:12.846258Z",
     "shell.execute_reply": "2024-03-26T07:32:12.845445Z"
    },
    "papermill": {
     "duration": 0.135692,
     "end_time": "2024-03-26T07:32:12.848359",
     "exception": false,
     "start_time": "2024-03-26T07:32:12.712667",
     "status": "completed"
    },
    "tags": []
   },
   "outputs": [
    {
     "data": {
      "text/plain": [
       "Array([[ 1.0860980e+00, -1.3044222e-03,  6.2260870e-03, ...,\n",
       "        -4.8774155e-04,  6.0615120e-03, -4.4224094e-04],\n",
       "       [-1.3044182e-03,  1.0384851e+00,  8.0706197e-04, ...,\n",
       "        -1.9493288e-03,  9.8094472e-04,  2.9343476e-03],\n",
       "       [ 6.2260889e-03,  8.0704771e-04,  1.1474202e+00, ...,\n",
       "        -4.1138922e-04, -1.6049797e-02,  4.4441978e-03],\n",
       "       ...,\n",
       "       [-4.8774216e-04, -1.9493316e-03, -4.1136827e-04, ...,\n",
       "         1.1899413e+00,  1.5721554e-02, -8.4726915e-02],\n",
       "       [ 6.0615172e-03,  9.8093669e-04, -1.6049797e-02, ...,\n",
       "         1.5721556e-02,  1.0434704e+00, -8.4156178e-02],\n",
       "       [-4.4224047e-04,  2.9343530e-03,  4.4441856e-03, ...,\n",
       "        -8.4726900e-02, -8.4156148e-02,  1.0826175e+00]], dtype=float32)"
      ]
     },
     "execution_count": 19,
     "metadata": {},
     "output_type": "execute_result"
    }
   ],
   "source": [
    "with open(f'{models_folder}/myckn_f.pkl', 'rb') as f:\n",
    "    myCKN = pickle.load(f)\n",
    "    \n",
    "myCKN.layers[0].W"
   ]
  },
  {
   "cell_type": "code",
   "execution_count": 20,
   "id": "e19e368e",
   "metadata": {
    "execution": {
     "iopub.execute_input": "2024-03-26T07:32:12.863685Z",
     "iopub.status.busy": "2024-03-26T07:32:12.863269Z",
     "iopub.status.idle": "2024-03-26T07:32:12.897810Z",
     "shell.execute_reply": "2024-03-26T07:32:12.896344Z"
    },
    "papermill": {
     "duration": 0.046215,
     "end_time": "2024-03-26T07:32:12.901385",
     "exception": false,
     "start_time": "2024-03-26T07:32:12.855170",
     "status": "completed"
    },
    "tags": []
   },
   "outputs": [
    {
     "name": "stdout",
     "output_type": "stream",
     "text": [
      "Compute output of saved CKN model\n",
      "Evaluate myCKN took 1e+02 min\n"
     ]
    }
   ],
   "source": [
    "print('Compute output of saved CKN model')\n",
    "t0 = time.time()\n",
    "outputs = []\n",
    "# To avoid jax out of memory issues\n",
    "for i in range(5):\n",
    "    out = myCKN(Xtr[i*1000:(i+1)*1000])\n",
    "    outputs.append(out.reshape(out.shape[0], -1))\n",
    "t1 = time.time()\n",
    "print(f'Evaluate myCKN took {(t1-t0)/60:.1} min')"
   ]
  },
  {
   "cell_type": "code",
   "execution_count": 21,
   "id": "834e7d4a",
   "metadata": {
    "execution": {
     "iopub.execute_input": "2024-03-26T07:32:12.920164Z",
     "iopub.status.busy": "2024-03-26T07:32:12.919010Z",
     "iopub.status.idle": "2024-03-26T07:32:12.952855Z",
     "shell.execute_reply": "2024-03-26T07:32:12.951994Z"
    },
    "papermill": {
     "duration": 0.044383,
     "end_time": "2024-03-26T07:32:12.955356",
     "exception": false,
     "start_time": "2024-03-26T07:32:12.910973",
     "status": "completed"
    },
    "tags": []
   },
   "outputs": [
    {
     "name": "stdout",
     "output_type": "stream",
     "text": [
      "(5000, 2048)\n"
     ]
    }
   ],
   "source": [
    "outputs = jnp.vstack(outputs)\n",
    "print(outputs.shape)"
   ]
  },
  {
   "cell_type": "code",
   "execution_count": 22,
   "id": "e644919e",
   "metadata": {
    "execution": {
     "iopub.execute_input": "2024-03-26T07:32:12.971017Z",
     "iopub.status.busy": "2024-03-26T07:32:12.970622Z",
     "iopub.status.idle": "2024-03-26T07:32:12.999623Z",
     "shell.execute_reply": "2024-03-26T07:32:12.998580Z"
    },
    "papermill": {
     "duration": 0.039606,
     "end_time": "2024-03-26T07:32:13.002039",
     "exception": false,
     "start_time": "2024-03-26T07:32:12.962433",
     "status": "completed"
    },
    "tags": []
   },
   "outputs": [
    {
     "name": "stdout",
     "output_type": "stream",
     "text": [
      "Input shape (5000, 2048)\n",
      "mu [[0.1365981  0.09182774 0.10040864 ... 0.42932993 0.37867564 0.31226152]], s [[0.20315729 0.09915642 0.09488929 ... 0.3609316  0.26758936 0.17920268]]\n"
     ]
    }
   ],
   "source": [
    "# z-score output\n",
    "mu = outputs.mean(axis=0, keepdims=True)\n",
    "X = outputs - mu\n",
    "s = jnp.sqrt( jnp.mean( X**2, axis=0, keepdims=True) )\n",
    "X = X / s\n",
    "print('Input shape', X.shape)\n",
    "print(f'mu {mu}, s {s}')\n",
    "\n",
    "\n",
    "jnp.save(os.path.join(models_folder, 'scaler_features_means.npy'), mu)\n",
    "jnp.save(os.path.join(models_folder, 'scaler_features_std.npy'), s)"
   ]
  },
  {
   "cell_type": "code",
   "execution_count": 16,
   "id": "2fabf930",
   "metadata": {
    "execution": {
     "iopub.execute_input": "2024-03-26T07:32:13.018038Z",
     "iopub.status.busy": "2024-03-26T07:32:13.017404Z",
     "iopub.status.idle": "2024-03-26T07:32:13.046775Z",
     "shell.execute_reply": "2024-03-26T07:32:13.045865Z"
    },
    "papermill": {
     "duration": 0.040062,
     "end_time": "2024-03-26T07:32:13.049174",
     "exception": false,
     "start_time": "2024-03-26T07:32:13.009112",
     "status": "completed"
    },
    "tags": []
   },
   "outputs": [],
   "source": [
    "ntrain = X.shape[0] - 80\n",
    "kernel_func = RBF(sigma=jnp.sqrt(X.shape[1]))\n",
    "my_svm = MultiClassKernelSVM(num_classes=10, kernel_func=kernel_func, c=1)\n",
    "my_svm.fit(X[:ntrain], Ytr[:ntrain])\n",
    "\n",
    "preds = my_svm.predict(X[ntrain:ntrain+80])\n",
    "print('Acc', jnp.mean(preds == Ytr[ntrain:ntrain+80]))"
   ]
  },
  {
   "cell_type": "code",
   "execution_count": 17,
   "id": "7386f4e3",
   "metadata": {
    "execution": {
     "iopub.execute_input": "2024-03-26T07:32:13.065293Z",
     "iopub.status.busy": "2024-03-26T07:32:13.064314Z",
     "iopub.status.idle": "2024-03-26T07:32:13.093320Z",
     "shell.execute_reply": "2024-03-26T07:32:13.092459Z"
    },
    "papermill": {
     "duration": 0.03921,
     "end_time": "2024-03-26T07:32:13.095511",
     "exception": false,
     "start_time": "2024-03-26T07:32:13.056301",
     "status": "completed"
    },
    "tags": []
   },
   "outputs": [],
   "source": [
    "if not os.path.exists(models_folder):\n",
    "    os.makedirs(models_folder)\n",
    "with open(f'{models_folder}/svm_full.pkl', 'wb') as f:\n",
    "    pickle.dump(my_svm, f)"
   ]
  },
  {
   "cell_type": "code",
   "execution_count": 18,
   "id": "c40229a4",
   "metadata": {
    "execution": {
     "iopub.execute_input": "2024-03-26T07:32:13.111075Z",
     "iopub.status.busy": "2024-03-26T07:32:13.110268Z",
     "iopub.status.idle": "2024-03-26T07:32:13.470203Z",
     "shell.execute_reply": "2024-03-26T07:32:13.469360Z"
    },
    "papermill": {
     "duration": 0.370425,
     "end_time": "2024-03-26T07:32:13.472818",
     "exception": false,
     "start_time": "2024-03-26T07:32:13.102393",
     "status": "completed"
    },
    "tags": []
   },
   "outputs": [],
   "source": [
    "with open(f'{models_folder}/svm_full.pkl', 'rb') as f:\n",
    "    my_svm = pickle.load(f)"
   ]
  },
  {
   "cell_type": "code",
   "execution_count": 19,
   "id": "2ea4237a",
   "metadata": {
    "execution": {
     "iopub.execute_input": "2024-03-26T07:32:13.488658Z",
     "iopub.status.busy": "2024-03-26T07:32:13.488074Z",
     "iopub.status.idle": "2024-03-26T08:02:06.253327Z",
     "shell.execute_reply": "2024-03-26T08:02:06.252213Z"
    },
    "papermill": {
     "duration": 1792.783087,
     "end_time": "2024-03-26T08:02:06.263145",
     "exception": false,
     "start_time": "2024-03-26T07:32:13.480058",
     "status": "completed"
    },
    "tags": []
   },
   "outputs": [
    {
     "name": "stdout",
     "output_type": "stream",
     "text": [
      "Compute Xte features from CKN\n",
      "Evaluating CKN on test data took 3e+01 min\n",
      "Input shape (2000, 2048)\n",
      "mu [0.13454047 0.08940188 0.10523514 ... 0.4221093  0.37207156 0.31006384], s [0.19884168 0.0885532  0.10756616 ... 0.36169964 0.27463686 0.18510593]\n"
     ]
    }
   ],
   "source": [
    "print('Compute Xte features from CKN')\n",
    "t0 = time.time()\n",
    "out_test = myCKN(Xte)\n",
    "out_test = out_test.reshape(out_test.shape[0], -1)\n",
    "t1 = time.time()\n",
    "print(f'Evaluating CKN on test data took {(t1-t0)/60:.1} min')\n",
    "\n",
    "mu = out_test.mean(axis=0)\n",
    "X = out_test - mu[None, :]\n",
    "s = jnp.sqrt( jnp.mean( X**2, axis=0) )\n",
    "X = X / s[None, :]\n",
    "print('Input shape', X.shape)\n",
    "print(f'mu {mu}, s {s}')"
   ]
  },
  {
   "cell_type": "code",
   "execution_count": 20,
   "id": "22c7edf6",
   "metadata": {
    "execution": {
     "iopub.execute_input": "2024-03-26T08:02:06.279538Z",
     "iopub.status.busy": "2024-03-26T08:02:06.279162Z",
     "iopub.status.idle": "2024-03-26T08:02:21.722213Z",
     "shell.execute_reply": "2024-03-26T08:02:21.720921Z"
    },
    "papermill": {
     "duration": 15.454252,
     "end_time": "2024-03-26T08:02:21.724644",
     "exception": false,
     "start_time": "2024-03-26T08:02:06.270392",
     "status": "completed"
    },
    "tags": []
   },
   "outputs": [
    {
     "name": "stdout",
     "output_type": "stream",
     "text": [
      "Function predict took 15.40 seconds\n"
     ]
    }
   ],
   "source": [
    "Yte = my_svm.predict(X)\n",
    "Yte = {\"Prediction\": Yte}\n",
    "dataframe = pd.DataFrame(Yte)\n",
    "dataframe.index += 1\n",
    "\n",
    "dataframe.to_csv(f\"{data_folder}/Yte.csv\", index_label=\"Id\")"
   ]
  },
  {
   "cell_type": "code",
   "execution_count": null,
   "id": "dadfbfb0",
   "metadata": {
    "papermill": {
     "duration": 0.007212,
     "end_time": "2024-03-26T08:02:21.739441",
     "exception": false,
     "start_time": "2024-03-26T08:02:21.732229",
     "status": "completed"
    },
    "tags": []
   },
   "outputs": [],
   "source": []
  }
 ],
 "metadata": {
  "kaggle": {
   "accelerator": "none",
   "dataSources": [
    {
     "datasetId": 4665923,
     "sourceId": 7937042,
     "sourceType": "datasetVersion"
    },
    {
     "isSourceIdPinned": true,
     "modelInstanceId": 16635,
     "sourceId": 20050,
     "sourceType": "modelInstanceVersion"
    },
    {
     "isSourceIdPinned": true,
     "modelInstanceId": 16801,
     "sourceId": 20259,
     "sourceType": "modelInstanceVersion"
    }
   ],
   "dockerImageVersionId": 30673,
   "isGpuEnabled": false,
   "isInternetEnabled": true,
   "language": "python",
   "sourceType": "notebook"
  },
  "kernelspec": {
   "display_name": "Python 3",
   "language": "python",
   "name": "python3"
  },
  "language_info": {
   "codemirror_mode": {
    "name": "ipython",
    "version": 3
   },
   "file_extension": ".py",
   "mimetype": "text/x-python",
   "name": "python",
   "nbconvert_exporter": "python",
   "pygments_lexer": "ipython3",
   "version": "3.10.12"
  },
  "papermill": {
   "default_parameters": {},
   "duration": 1843.808126,
   "end_time": "2024-03-26T08:02:24.571438",
   "environment_variables": {},
   "exception": null,
   "input_path": "__notebook__.ipynb",
   "output_path": "__notebook__.ipynb",
   "parameters": {},
   "start_time": "2024-03-26T07:31:40.763312",
   "version": "2.5.0"
  }
 },
 "nbformat": 4,
 "nbformat_minor": 5
}

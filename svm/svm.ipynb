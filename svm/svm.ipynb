{
 "cells": [
  {
   "cell_type": "code",
   "execution_count": 6,
   "metadata": {},
   "outputs": [
    {
     "name": "stdout",
     "output_type": "stream",
     "text": [
      "The autoreload extension is already loaded. To reload it, use:\n",
      "  %reload_ext autoreload\n"
     ]
    }
   ],
   "source": [
    "%load_ext autoreload\n",
    "%autoreload 2\n",
    "from svm import *\n",
    "from sklearn.preprocessing import StandardScaler\n",
    "import time\n",
    "from tqdm import tqdm\n",
    "import jax.numpy as jnp\n",
    "from sklearn import datasets\n",
    "from sklearn import svm"
   ]
  },
  {
   "cell_type": "code",
   "execution_count": 7,
   "metadata": {},
   "outputs": [],
   "source": [
    "scaler = StandardScaler()\n",
    "lam = 0.5\n",
    "tol = 1e-4\n",
    "num_samples = 500\n",
    "num_features = 820\n",
    "\n",
    "verbose = False\n",
    "c = 1 / (lam)\n",
    "n_classes = 10\n",
    "\n",
    "X, y = datasets.make_classification(\n",
    "    n_samples=num_samples,\n",
    "    n_features=num_features,\n",
    "    n_clusters_per_class=1,\n",
    "    n_informative=4,\n",
    "    n_classes=n_classes,\n",
    "    random_state=0,\n",
    ")\n",
    "X = scaler.fit_transform(X)"
   ]
  },
  {
   "cell_type": "code",
   "execution_count": 8,
   "metadata": {},
   "outputs": [
    {
     "name": "stderr",
     "output_type": "stream",
     "text": [
      "An NVIDIA GPU may be present on this machine, but a CUDA-enabled jaxlib is not installed. Falling back to cpu.\n"
     ]
    },
    {
     "name": "stdout",
     "output_type": "stream",
     "text": [
      "0.08392071723937988\n",
      "0.11\n"
     ]
    }
   ],
   "source": [
    "start_time = time.time()\n",
    "sk_svm = svm.SVC(kernel=\"rbf\", C=1).fit(X[:400], y[:400])\n",
    "pred = sk_svm.predict(X[400:])\n",
    "end_time = time.time()\n",
    "elapsed_time = end_time - start_time\n",
    "print(elapsed_time)\n",
    "print(jnp.mean(pred == y[400:]))"
   ]
  },
  {
   "cell_type": "code",
   "execution_count": 11,
   "metadata": {},
   "outputs": [
    {
     "name": "stdout",
     "output_type": "stream",
     "text": [
      "1.440683364868164\n",
      "0.19999999\n"
     ]
    }
   ],
   "source": [
    "start_time = time.time()\n",
    "gamma = 1 / num_features\n",
    "kernel_func = partial(rbf_kernel, gamma=gamma)\n",
    "my_svm = MultiClassSVM(num_classes=n_classes, kernel_func=kernel_func, c=1)\n",
    "my_svm.fit(X[:400], y[:400])\n",
    "pred = my_svm.predict(X[400:])\n",
    "end_time = time.time()\n",
    "elapsed_time = end_time - start_time\n",
    "print(elapsed_time)\n",
    "print(jnp.mean(pred == y[400:]))"
   ]
  }
 ],
 "metadata": {
  "kernelspec": {
   "display_name": "DLP",
   "language": "python",
   "name": "python3"
  },
  "language_info": {
   "codemirror_mode": {
    "name": "ipython",
    "version": 3
   },
   "file_extension": ".py",
   "mimetype": "text/x-python",
   "name": "python",
   "nbconvert_exporter": "python",
   "pygments_lexer": "ipython3",
   "version": "3.12.1"
  }
 },
 "nbformat": 4,
 "nbformat_minor": 2
}
